{
 "cells": [
  {
   "cell_type": "code",
   "execution_count": 5,
   "metadata": {},
   "outputs": [
    {
     "name": "stdout",
     "output_type": "stream",
     "text": [
      "1.9.0\n",
      "2.1.6-tf\n"
     ]
    }
   ],
   "source": [
    "import tensorflow as tf\n",
    "from tensorflow.keras import layers\n",
    "\n",
    "print(tf.VERSION)\n",
    "print(tf.keras.__version__)\n"
   ]
  },
  {
   "cell_type": "code",
   "execution_count": null,
   "metadata": {},
   "outputs": [],
   "source": [
    "from keras.models import Sequential\n",
    "from keras.layers import Dense, Activation\n",
    "model = Sequential()\n",
    "model.add(Dense(output_dim=64, input_dim=100))\n",
    "model.add(Activation(“relu”))\n",
    "model.add(Dense(output_dim=10))\n",
    "model.add(Activation(“softmax”)) \n",
    "model.compile(loss=’categorical_crossentropy’, optimizer=’sgd’, metrics=[‘accuracy’])\n",
    "model.fit(X_train, Y_train, nb_epoch=5, batch_size=32)\n",
    "loss_and_metrics = model.evaluate(X_test, Y_test, batch_size=32)"
   ]
  },
  {
   "cell_type": "code",
   "execution_count": 16,
   "metadata": {},
   "outputs": [
    {
     "name": "stderr",
     "output_type": "stream",
     "text": [
      "D:\\Development\\Anaconda3.5.2\\lib\\site-packages\\ipykernel_launcher.py:45: UserWarning: Update your `Conv2D` call to the Keras 2 API: `Conv2D(32, (3, 3), input_shape=(28, 28, 1..., padding=\"valid\")`\n",
      "D:\\Development\\Anaconda3.5.2\\lib\\site-packages\\ipykernel_launcher.py:47: UserWarning: Update your `Conv2D` call to the Keras 2 API: `Conv2D(32, (3, 3))`\n",
      "D:\\Development\\Anaconda3.5.2\\lib\\site-packages\\ipykernel_launcher.py:59: UserWarning: The `nb_epoch` argument in `fit` has been renamed `epochs`.\n"
     ]
    },
    {
     "name": "stdout",
     "output_type": "stream",
     "text": [
      "Train on 60000 samples, validate on 10000 samples\n",
      "Epoch 1/12\n",
      "60000/60000 [==============================] - 26s 441us/step - loss: 0.5890 - acc: 0.7906 - val_loss: 0.3810 - val_acc: 0.8610\n",
      "Epoch 2/12\n",
      "60000/60000 [==============================] - 7s 112us/step - loss: 0.3787 - acc: 0.8657 - val_loss: 0.3146 - val_acc: 0.8850\n",
      "Epoch 3/12\n",
      "60000/60000 [==============================] - 7s 111us/step - loss: 0.3270 - acc: 0.8840 - val_loss: 0.3061 - val_acc: 0.8892\n",
      "Epoch 4/12\n",
      "60000/60000 [==============================] - 7s 111us/step - loss: 0.2957 - acc: 0.8938 - val_loss: 0.2652 - val_acc: 0.9045\n",
      "Epoch 5/12\n",
      "60000/60000 [==============================] - 7s 112us/step - loss: 0.2725 - acc: 0.9022 - val_loss: 0.2594 - val_acc: 0.9057\n",
      "Epoch 6/12\n",
      "60000/60000 [==============================] - 7s 111us/step - loss: 0.2559 - acc: 0.9087 - val_loss: 0.2547 - val_acc: 0.9065\n",
      "Epoch 7/12\n",
      "60000/60000 [==============================] - 7s 111us/step - loss: 0.2441 - acc: 0.9110 - val_loss: 0.2476 - val_acc: 0.9124\n",
      "Epoch 8/12\n",
      "60000/60000 [==============================] - 7s 111us/step - loss: 0.2293 - acc: 0.9176 - val_loss: 0.2347 - val_acc: 0.9152\n",
      "Epoch 9/12\n",
      "60000/60000 [==============================] - 7s 111us/step - loss: 0.2204 - acc: 0.9203 - val_loss: 0.2342 - val_acc: 0.9169\n",
      "Epoch 10/12\n",
      "60000/60000 [==============================] - 7s 111us/step - loss: 0.2116 - acc: 0.9244 - val_loss: 0.2277 - val_acc: 0.9171\n",
      "Epoch 11/12\n",
      "60000/60000 [==============================] - 7s 111us/step - loss: 0.2028 - acc: 0.9255 - val_loss: 0.2295 - val_acc: 0.9165\n",
      "Epoch 12/12\n",
      "60000/60000 [==============================] - 7s 110us/step - loss: 0.1942 - acc: 0.9300 - val_loss: 0.2162 - val_acc: 0.9239\n",
      "Test score: 0.21622841657996178\n",
      "Test accuracy: 0.9239\n"
     ]
    }
   ],
   "source": [
    "# from tensorflow.examples.tutorials.mnist import mnist\n",
    "from keras.datasets import fashion_mnist\n",
    "from keras import backend as K\n",
    "from keras import utils as np_utils\n",
    "from keras.models import Sequential\n",
    "from keras.layers.core import Dense, Dropout, Activation, Permute\n",
    "from keras.layers.pooling import MaxPooling2D\n",
    "from keras.layers.convolutional import Convolution2D\n",
    "from keras.layers import Input, Flatten\n",
    "\n",
    "batch_size = 128\n",
    "nb_classes = 10 # 分类数\n",
    "nb_epoch = 12 # 训练轮数\n",
    "# 输入图片的维度\n",
    "img_rows, img_cols = 28, 28\n",
    "# 卷积滤镜的个数\n",
    "nb_filters = 32\n",
    "# 最大池化，池化核大小\n",
    "pool_size = (2, 2)\n",
    "# 卷积核大小\n",
    "kernel_size = (3, 3)\n",
    "(X_train, y_train), (X_test, y_test) = fashion_mnist.load_data()\n",
    "if K.image_dim_ordering() == 'th':\n",
    "    # 使用Theano 的顺序：(conv_dim1, channels, conv_dim2, conv_dim3)\n",
    "    X_train = X_train.reshape(X_train.shape[0], 1, img_rows, img_cols)\n",
    "    X_test = X_test.reshape(X_test.shape[0], 1, img_rows, img_cols)\n",
    "    input_shape = (1, img_rows, img_cols)\n",
    "else:\n",
    "    # 使用TensorFlow 的顺序：(conv_dim1, conv_dim2, conv_dim3, channels)\n",
    "    X_train = X_train.reshape(X_train.shape[0], img_rows, img_cols, 1)\n",
    "    X_test = X_test.reshape(X_test.shape[0], img_rows, img_cols, 1)\n",
    "    input_shape = (img_rows, img_cols, 1)\n",
    "X_train = X_train.astype('float32')\n",
    "X_test = X_test.astype('float32')\n",
    "X_train /= 255\n",
    "X_test /= 255 \n",
    "Y_train = np_utils.to_categorical(y_train, nb_classes)\n",
    "Y_test = np_utils.to_categorical(y_test, nb_classes) \n",
    "\n",
    "\n",
    "#model\n",
    "model = Sequential()\n",
    "model.add(Convolution2D(nb_filters, kernel_size[0], kernel_size[1],\n",
    "border_mode = 'valid',\n",
    "input_shape = input_shape))\n",
    "model.add(Activation('relu'))\n",
    "model.add(Convolution2D(nb_filters, kernel_size[0], kernel_size[1]))\n",
    "model.add(Activation('relu'))\n",
    "model.add(MaxPooling2D(pool_size=pool_size))\n",
    "model.add(Dropout(0.25))\n",
    "model.add(Flatten())\n",
    "model.add(Dense(128))\n",
    "model.add(Activation('relu'))\n",
    "model.add(Dropout(0.5))\n",
    "model.add(Dense(nb_classes))\n",
    "model.add(Activation('softmax')) \n",
    "\n",
    "model.compile(loss='categorical_crossentropy',optimizer='adadelta',metrics=['accuracy'])\n",
    "model.fit(X_train, Y_train, batch_size=batch_size, nb_epoch=nb_epoch,verbose=1, validation_data=(X_test, Y_test)) \n",
    "\n",
    "score = model.evaluate(X_test, Y_test, verbose=0)\n",
    "print('Test score:', score[0])\n",
    "print('Test accuracy:', score[1]) \n",
    "\n",
    "model.save_weights('Mnist_weights.h5')\n",
    "\n"
   ]
  },
  {
   "cell_type": "code",
   "execution_count": null,
   "metadata": {},
   "outputs": [],
   "source": []
  }
 ],
 "metadata": {
  "kernelspec": {
   "display_name": "Python 3",
   "language": "python",
   "name": "python3"
  },
  "language_info": {
   "codemirror_mode": {
    "name": "ipython",
    "version": 3
   },
   "file_extension": ".py",
   "mimetype": "text/x-python",
   "name": "python",
   "nbconvert_exporter": "python",
   "pygments_lexer": "ipython3",
   "version": "3.6.5"
  }
 },
 "nbformat": 4,
 "nbformat_minor": 2
}
